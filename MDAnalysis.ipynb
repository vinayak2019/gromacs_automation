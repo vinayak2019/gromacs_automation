{
  "nbformat": 4,
  "nbformat_minor": 0,
  "metadata": {
    "colab": {
      "provenance": [],
      "mount_file_id": "1UOALs0RSx-EXxhLPqvDrDGeKlH8ZmBWg",
      "authorship_tag": "ABX9TyOOk1vurhzRozDcEB7EoJ4Z",
      "include_colab_link": true
    },
    "kernelspec": {
      "name": "python3",
      "display_name": "Python 3"
    },
    "language_info": {
      "name": "python"
    }
  },
  "cells": [
    {
      "cell_type": "markdown",
      "metadata": {
        "id": "view-in-github",
        "colab_type": "text"
      },
      "source": [
        "<a href=\"https://colab.research.google.com/github/vinayak2019/gromacs_automation/blob/main/MDAnalysis.ipynb\" target=\"_parent\"><img src=\"https://colab.research.google.com/assets/colab-badge.svg\" alt=\"Open In Colab\"/></a>"
      ]
    },
    {
      "cell_type": "code",
      "execution_count": null,
      "metadata": {
        "id": "LND4bNls0VxZ"
      },
      "outputs": [],
      "source": [
        "# install the packages\n",
        "!pip install --upgrade MDAnalysis\n",
        "!pip install nglview"
      ]
    },
    {
      "cell_type": "code",
      "source": [
        "# getting the files\n",
        "!git clone https://github.com/vinayak2019/gromacs_automation.git\n",
        "!unzip /content/gromacs_automation/SampleData.zip"
      ],
      "metadata": {
        "id": "EExtPkAIS9ql"
      },
      "execution_count": null,
      "outputs": []
    },
    {
      "cell_type": "code",
      "source": [
        "# importing the definitions\n",
        "import MDAnalysis as mda\n",
        "from MDAnalysis.analysis import rms\n"
      ],
      "metadata": {
        "id": "lOctHaKr0vqJ"
      },
      "execution_count": null,
      "outputs": []
    },
    {
      "cell_type": "code",
      "source": [
        "# creating the universe\n",
        "u = mda.Universe('/content/SampleData/step5.tpr','/content/SampleData/step5.xtc')"
      ],
      "metadata": {
        "id": "gTObndnT1elI"
      },
      "execution_count": null,
      "outputs": []
    },
    {
      "cell_type": "code",
      "source": [
        "u"
      ],
      "metadata": {
        "id": "aGrDRYNm13b5"
      },
      "execution_count": null,
      "outputs": []
    },
    {
      "cell_type": "code",
      "source": [
        "# getting the last step from trajectory\n",
        "u.trajectory[-1]"
      ],
      "metadata": {
        "id": "ezJvv9CX13zW"
      },
      "execution_count": null,
      "outputs": []
    },
    {
      "cell_type": "code",
      "source": [
        "# setting the trajectory to step 0\n",
        "u.trajectory[0]"
      ],
      "metadata": {
        "id": "d6uSYqZV3UWk"
      },
      "execution_count": null,
      "outputs": []
    },
    {
      "cell_type": "code",
      "source": [
        "# getting the RMSD\n",
        "rmsd_analysis = rms.RMSD(u, select='backbone', groupselections=['name CA', 'protein'])\n",
        "rmsd_analysis.run()"
      ],
      "metadata": {
        "id": "HlCCeAZG3Cx4"
      },
      "execution_count": null,
      "outputs": []
    },
    {
      "cell_type": "code",
      "source": [
        "# saving the RMSD data to a pandas dataframe\n",
        "import pandas as pd\n",
        "\n",
        "rmsd_df = pd.DataFrame(rmsd_analysis.results.rmsd[:, 2:],\n",
        "                       columns=['Backbone', 'C-alphas', 'Protein'],\n",
        "                       index=rmsd_analysis.results.rmsd[:, 1])\n",
        "rmsd_df.index.name = 'Time (ps)'\n",
        "rmsd_df.head()"
      ],
      "metadata": {
        "id": "WMJTlrAA4Nbv"
      },
      "execution_count": null,
      "outputs": []
    },
    {
      "cell_type": "code",
      "source": [
        "# plotting the RMSD data\n",
        "rmsd_df.plot(title='RMSD')"
      ],
      "metadata": {
        "id": "PhsBDjbO4RTX"
      },
      "execution_count": null,
      "outputs": []
    },
    {
      "cell_type": "code",
      "source": [
        "# calculating the RMSF\n",
        "c_alphas = u.select_atoms('protein and name CA')\n",
        "rmsf_analysis = rms.RMSF(c_alphas)\n",
        "R = rmsf_analysis.run()"
      ],
      "metadata": {
        "id": "LM-UEjyE50xo"
      },
      "execution_count": null,
      "outputs": []
    },
    {
      "cell_type": "code",
      "source": [
        "# plotting the RMSF data\n",
        "import matplotlib.pyplot as plt\n",
        "plt.plot(c_alphas.resids, R.results.rmsf)\n",
        "plt.xlabel('Residue number')\n",
        "plt.ylabel('RMSF ($\\AA$)')\n",
        "plt.axvspan(30, 59, zorder=0, alpha=0.2, color='green', label='NMP')\n",
        "plt.legend()\n",
        "plt.show()"
      ],
      "metadata": {
        "id": "U1eU85YP6hCg"
      },
      "execution_count": null,
      "outputs": []
    },
    {
      "cell_type": "markdown",
      "source": [
        "#### Contacts"
      ],
      "metadata": {
        "id": "FyD6mwKHUwGK"
      }
    },
    {
      "cell_type": "code",
      "source": [
        "# Set the two groups\n",
        "sel_lig = 'resname LIG'\n",
        "lig = u.select_atoms(sel_lig)\n",
        "\n",
        "sel_pro = 'protein'\n",
        "protein = u.select_atoms(sel_pro)"
      ],
      "metadata": {
        "id": "mXBMuClI_0qt"
      },
      "execution_count": null,
      "outputs": []
    },
    {
      "cell_type": "code",
      "source": [
        "# get the contacts data\n",
        "from MDAnalysis.analysis import contacts\n",
        "\n",
        "ca1 = contacts.Contacts(u,\n",
        "                        select=(sel_lig, sel_pro),\n",
        "                        refgroup=(lig, protein),\n",
        "                        radius=4.5,\n",
        "                        method='hard_cut').run()"
      ],
      "metadata": {
        "id": "GOcwQ9TP_2yJ"
      },
      "execution_count": null,
      "outputs": []
    },
    {
      "cell_type": "code",
      "source": [
        "# create a dataframe from the data\n",
        "ca1_df = pd.DataFrame(ca1.results.timeseries,\n",
        "                      columns=['Frame',\n",
        "                               'Contacts from first frame'])\n",
        "ca1_df.head()"
      ],
      "metadata": {
        "id": "Djvk2Obr_7hp"
      },
      "execution_count": null,
      "outputs": []
    },
    {
      "cell_type": "code",
      "source": [
        "# get the total number of contacts\n",
        "n_ref = ca1.initial_contacts[0].sum()\n",
        "print('There are {} contacts in the reference.'.format(n_ref))"
      ],
      "metadata": {
        "id": "NVLMNYUpAkQg"
      },
      "execution_count": null,
      "outputs": []
    },
    {
      "cell_type": "code",
      "source": [
        "# get contacts per time frame\n",
        "n_contacts = ca1.results.timeseries[:, 1] * n_ref\n",
        "print(n_contacts)"
      ],
      "metadata": {
        "id": "aUL5OjUfAoBh"
      },
      "execution_count": null,
      "outputs": []
    },
    {
      "cell_type": "code",
      "source": [
        "#plotting the total number of contacts per frame\n",
        "ca1_df.plot(x='Frame')\n",
        "plt.ylabel('Fraction of contacts')\n",
        "plt.show()"
      ],
      "metadata": {
        "id": "HpRueIK5Ap6B"
      },
      "execution_count": null,
      "outputs": []
    }
  ]
}