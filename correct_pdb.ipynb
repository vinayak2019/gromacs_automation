{
  "nbformat": 4,
  "nbformat_minor": 0,
  "metadata": {
    "colab": {
      "provenance": [],
      "authorship_tag": "ABX9TyOpf2ts2roYWcAY8sahAH/w",
      "include_colab_link": true
    },
    "kernelspec": {
      "name": "python3",
      "display_name": "Python 3"
    },
    "language_info": {
      "name": "python"
    }
  },
  "cells": [
    {
      "cell_type": "markdown",
      "metadata": {
        "id": "view-in-github",
        "colab_type": "text"
      },
      "source": [
        "<a href=\"https://colab.research.google.com/github/vinayak2019/gromacs_automation/blob/main/correct_pdb.ipynb\" target=\"_parent\"><img src=\"https://colab.research.google.com/assets/colab-badge.svg\" alt=\"Open In Colab\"/></a>"
      ]
    },
    {
      "cell_type": "code",
      "source": [
        "from collections import defaultdict\n",
        "\n",
        "def rearrange_pdb_with_correct_chain(input_pdb, output_pdb, ligand_resname=\"LIG\"):\n",
        "    \"\"\"\n",
        "    Rearranges atoms in a PDB file, groups protein chains by segment name,\n",
        "    replaces the chain ID (column 22) with the correct identifier,\n",
        "    inserts TER between chains, and ensures the ligand is placed separately at the end.\n",
        "\n",
        "    :param input_pdb: Path to the input PDB file\n",
        "    :param output_pdb: Path to the output formatted PDB file\n",
        "    :param ligand_resname: Residue name of the ligand (default: \"LIG\")\n",
        "    \"\"\"\n",
        "\n",
        "    chain_groups = defaultdict(list)\n",
        "    ligand_atoms = []  # List to store ligand atoms\n",
        "    protein_segment_names = set()  # Set to store unique protein segment names\n",
        "\n",
        "    with open(input_pdb, \"r\") as pdb_file:\n",
        "        for line in pdb_file:\n",
        "            if not line.strip():  # Skip empty lines\n",
        "                continue\n",
        "\n",
        "            if line.startswith((\"ATOM\", \"HETATM\")) and len(line) >= 76:  # Ensure valid line\n",
        "                segment_name = line[72:76].strip() if len(line) >= 76 else \"\"  # Extract segment name safely\n",
        "                residue_name = line[17:20].strip()  # Extract residue name (columns 18-20)\n",
        "\n",
        "                if residue_name == ligand_resname or \"HETATM\" in line:  # Identify ligand\n",
        "                    ligand_atoms.append(line)\n",
        "                else:\n",
        "                    chain_groups[segment_name].append(line)\n",
        "                    protein_segment_names.add(segment_name)\n",
        "\n",
        "    with open(output_pdb, \"w\") as output_file:\n",
        "        # Process protein chains first\n",
        "        for segment_name in sorted(protein_segment_names):  # Sort chains alphabetically\n",
        "            if not segment_name:  # Skip missing segment names\n",
        "                continue\n",
        "\n",
        "            chain_id = segment_name[-1]  # Assign chain ID from last letter of segment name (PROA → A, PROC → C)\n",
        "\n",
        "            for line in chain_groups[segment_name]:\n",
        "                new_line = line[:21] + f\"{chain_id:<1}\" + line[22:]  # Replace chain ID in column 22\n",
        "                output_file.write(new_line)\n",
        "            output_file.write(\"TER\\n\")  # Insert TER after each chain\n",
        "\n",
        "        # Process the ligand separately\n",
        "        if ligand_atoms:\n",
        "            ligand_chain_id = \"L\"  # Assign 'L' as chain ID for ligand\n",
        "            for line in ligand_atoms:\n",
        "                new_line = line[:21] + f\"{ligand_chain_id:<1}\" + line[22:]  # Replace chain ID for ligand\n",
        "                output_file.write(new_line)\n",
        "            output_file.write(\"TER\\n\")  # Add TER after ligand\n",
        "\n",
        "    print(f\"✅ Reformatted PDB file saved as {output_pdb}\")\n",
        "\n",
        "# Example usage\n",
        "rearrange_pdb_with_correct_chain(\"Structures.pdb\", \"Structure_new.pdb\", ligand_resname=\"LIG\")\n"
      ],
      "metadata": {
        "colab": {
          "base_uri": "https://localhost:8080/"
        },
        "id": "Nohkyvoas80n",
        "outputId": "cbf349cf-ba7b-40ee-9281-58cf67fc968f"
      },
      "execution_count": null,
      "outputs": [
        {
          "output_type": "stream",
          "name": "stdout",
          "text": [
            "✅ Reformatted PDB file saved as output_rearranged.pdb\n"
          ]
        }
      ]
    }
  ]
}